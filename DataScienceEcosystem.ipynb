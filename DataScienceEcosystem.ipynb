{
 "cells": [
  {
   "cell_type": "markdown",
   "id": "4c33b40e",
   "metadata": {},
   "source": [
    "# Data Science Tools and Ecosystem"
   ]
  },
  {
   "cell_type": "markdown",
   "id": "8d008886",
   "metadata": {},
   "source": [
    "## Author: Ivan Castillo"
   ]
  },
  {
   "cell_type": "markdown",
   "id": "fb5b6bbc",
   "metadata": {},
   "source": [
    "In this notebook, Data Science Tools and Ecosystem are summarized."
   ]
  },
  {
   "cell_type": "markdown",
   "id": "a5b7c0ce",
   "metadata": {},
   "source": [
    "**Objectives:**\n",
    "* Identify criteria and roles to determine the language to be learned.\n",
    "* Identify the users and benefits of Python.\n",
    "* Identify users and uses of the R language.\n",
    "* Describe how to use notebooks in JupyterLab.\n",
    "* Describe Jupyter's basic architecture."
   ]
  },
  {
   "cell_type": "markdown",
   "id": "e5821e83",
   "metadata": {},
   "source": [
    "Some of the popular languages that Data Scientists use are:\n",
    "1. C++\n",
    "2. Python\n",
    "3. R"
   ]
  },
  {
   "cell_type": "markdown",
   "id": "0a5565a0",
   "metadata": {},
   "source": [
    "Some of the commonly used libraries used by Data Scientists include:\n",
    "1. TensorFlow\n",
    "2. Numpy\n",
    "3. Pandas\n",
    "4. SciPy"
   ]
  },
  {
   "cell_type": "markdown",
   "id": "ea5c050c",
   "metadata": {},
   "source": [
    "| Data Science Tools | \n",
    "|:---------|\n",
    "|  Rstudio   |\n",
    "|  Apache Spark   |\n",
    "|  TensorFlow   |"
   ]
  },
  {
   "cell_type": "markdown",
   "id": "62a700bf",
   "metadata": {},
   "source": [
    "### Below are a few examples of evaluating arithmetic expressions in Python"
   ]
  },
  {
   "cell_type": "code",
   "execution_count": 1,
   "id": "9c208ebf",
   "metadata": {},
   "outputs": [
    {
     "data": {
      "text/plain": [
       "17"
      ]
     },
     "execution_count": 1,
     "metadata": {},
     "output_type": "execute_result"
    }
   ],
   "source": [
    "(3*4)+5\n",
    "# This a simple arithmetic expression to mutiply then add integers"
   ]
  },
  {
   "cell_type": "code",
   "execution_count": 3,
   "id": "608a00e3",
   "metadata": {},
   "outputs": [
    {
     "name": "stdout",
     "output_type": "stream",
     "text": [
      "How many minutes do you want to convert into hours? 200\n",
      "your result is: 3.33 hours\n"
     ]
    }
   ],
   "source": [
    "minutes = input(\"How many minutes do you want to convert into hours? \")\n",
    "#This will convert 200 minutes to hours by diving by 60\n",
    "hours = round(int(minutes)/60, 2)\n",
    "print(\"your result is: \" + str(hours) + \" hours\")"
   ]
  },
  {
   "cell_type": "code",
   "execution_count": null,
   "id": "438d43cb",
   "metadata": {},
   "outputs": [],
   "source": []
  }
 ],
 "metadata": {
  "authors": [
   {
    "name": "Ivan Castillo"
   }
  ],
  "kernelspec": {
   "display_name": "Python 3 (ipykernel)",
   "language": "python",
   "name": "python3"
  },
  "language_info": {
   "codemirror_mode": {
    "name": "ipython",
    "version": 3
   },
   "file_extension": ".py",
   "mimetype": "text/x-python",
   "name": "python",
   "nbconvert_exporter": "python",
   "pygments_lexer": "ipython3",
   "version": "3.11.5"
  }
 },
 "nbformat": 4,
 "nbformat_minor": 5
}
